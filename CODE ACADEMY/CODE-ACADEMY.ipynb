{
 "cells": [
  {
   "cell_type": "markdown",
   "source": [
    "DATA TYPES\n"
   ],
   "metadata": {}
  },
  {
   "cell_type": "code",
   "execution_count": 1,
   "source": [
    "// Data Types\r\n",
    "\r\n",
    "/*\r\n",
    "\r\n",
    " 7 fundamental data types:\r\n",
    " - Number\r\n",
    " - String\r\n",
    " - Boolean\r\n",
    " - Null\r\n",
    " - Undefined\r\n",
    " - Symbol\r\n",
    " - Object\r\n",
    " \r\n",
    "*/\r\n"
   ],
   "outputs": [],
   "metadata": {}
  },
  {
   "cell_type": "code",
   "execution_count": 3,
   "source": [
    "// Arithmetic Operators\r\n",
    "// Add + , Substract - , Multiply * , Divide / , Remainder %\r\n",
    "\r\n",
    "console.log(3.5 + 30)\r\n",
    "console.log(2021-1969)\r\n",
    "console.log(65 /240)\r\n",
    "console.log(0.2708 * 100)"
   ],
   "outputs": [
    {
     "output_type": "stream",
     "name": "stdout",
     "text": [
      "33.5\n",
      "52\n",
      "0.2708333333333333\n",
      "27.08\n"
     ]
    }
   ],
   "metadata": {}
  },
  {
   "cell_type": "code",
   "execution_count": 4,
   "source": [
    "// String Concatenation\r\n",
    "console.log(\"Hello\" + \"World\")\r\n",
    "console.log(\"Hello\" + \" \" + \"World\")\r\n"
   ],
   "outputs": [
    {
     "output_type": "stream",
     "name": "stdout",
     "text": [
      "HelloWorld\n",
      "Hello World\n"
     ]
    }
   ],
   "metadata": {}
  },
  {
   "cell_type": "code",
   "execution_count": 5,
   "source": [
    "console.log('Hello'.length);\r\n",
    "console.log('hello'.toUpperCase());\r\n",
    "console.log('Hey'.startsWith('H'));\r\n",
    "console.log('Codecademy'.toUpperCase());\r\n",
    "console.log('    Remove whitespace   '.trim());"
   ],
   "outputs": [
    {
     "output_type": "stream",
     "name": "stdout",
     "text": [
      "5\n",
      "HELLO\n",
      "true\n",
      "CODECADEMY\n",
      "Remove whitespace\n"
     ]
    }
   ],
   "metadata": {}
  },
  {
   "cell_type": "code",
   "execution_count": 11,
   "source": [
    "// \r\n",
    "console.log(Math.random())\r\n",
    "console.log(Math.floor(Math.random()*100));\r\n",
    "console.log(Math.ceil(43.8))\r\n",
    "console.log(Number.isInteger(2017));"
   ],
   "outputs": [
    {
     "output_type": "stream",
     "name": "stdout",
     "text": [
      "0.239188491218993\n",
      "69\n",
      "44\n",
      "true\n"
     ]
    }
   ],
   "metadata": {}
  },
  {
   "cell_type": "code",
   "execution_count": 12,
   "source": [
    "// Variable\r\n",
    "var favoriteFood = \"pizza\"\r\n",
    "var numOfSlices = 8\r\n",
    "console.log(favoriteFood)\r\n",
    "console.log(numOfSlices)"
   ],
   "outputs": [
    {
     "output_type": "stream",
     "name": "stdout",
     "text": [
      "pizza\n",
      "8\n"
     ]
    }
   ],
   "metadata": {}
  },
  {
   "cell_type": "code",
   "execution_count": 13,
   "source": [
    "let changeMe = true;\r\n",
    "changeMe = false;\r\n",
    "console.log(changeMe)"
   ],
   "outputs": [
    {
     "output_type": "stream",
     "name": "stdout",
     "text": [
      "false\n"
     ]
    }
   ],
   "metadata": {}
  },
  {
   "cell_type": "code",
   "execution_count": 14,
   "source": [
    "// vCreate a Variable: const\r\n",
    "\r\n",
    "const entree = \"Enchiladas\"\r\n",
    "// entree = 'Tacos'\r\n",
    "console.log(entree)"
   ],
   "outputs": [
    {
     "output_type": "stream",
     "name": "stdout",
     "text": [
      "Enchiladas\n"
     ]
    }
   ],
   "metadata": {}
  },
  {
   "cell_type": "code",
   "execution_count": 24,
   "source": [
    "// Mathematical Assignment Operators\r\n",
    "\r\n",
    "w = 4;\r\n",
    "w = w + 1;\r\n",
    "console.log(w); // Output: 5"
   ],
   "outputs": [
    {
     "output_type": "stream",
     "name": "stdout",
     "text": [
      "5\n"
     ]
    }
   ],
   "metadata": {}
  },
  {
   "cell_type": "code",
   "execution_count": null,
   "source": [
    "# The Increment and Decrement Operator\r\n",
    "\r\n",
    "let levelUp = 10;\r\n",
    "let powerLevel = 9001;\r\n",
    "let multiplyMe = 32;\r\n",
    "let quarterMe = 1152;\r\n",
    "\r\n",
    "// Use the mathematical assignments in the space below:\r\n",
    "levelUp += 5\r\n",
    "powerLevel -= 100\r\n",
    "multiplyMe *= 11\r\n",
    "quarterMe /= 4\r\n",
    "\r\n",
    "\r\n",
    "\r\n",
    "// These console.log() statements below will help you check the values of the variables.\r\n",
    "// You do not need to edit these statements. \r\n",
    "console.log('The value of levelUp:', levelUp); \r\n",
    "console.log('The value of powerLevel:', powerLevel); \r\n",
    "console.log('The value of multipDlyMe:', multiplyMe); \r\n",
    "console.log('The value of quarterMe:', quarterMe);\r\n"
   ],
   "outputs": [],
   "metadata": {}
  },
  {
   "cell_type": "code",
   "execution_count": null,
   "source": [
    "# The Increment and Decrement Operator\r\n",
    "let a = 10;\r\n",
    "a++;\r\n",
    "console.log(a); // Output: 11\r\n",
    "\r\n",
    "let b = 20;\r\n",
    "b--;\r\n",
    "console.log(b); // Output: 19\r\n",
    "\r\n",
    "let gainedDollar = 3; \r\n",
    "let lostDollar = 50;\r\n",
    "gainedDollar ++ \r\n",
    "lostDollar --\r\n",
    "console.log(gainedDollar)\r\n",
    "console.log(lostDollar)\r\n"
   ],
   "outputs": [],
   "metadata": {}
  },
  {
   "cell_type": "code",
   "execution_count": null,
   "source": [
    "// String Concatenation with Variables\r\n",
    "// Using backtick\r\n",
    "// benefits to using template literals  the readability of the code\r\n",
    "\r\n",
    "const myPet = 'armadillo';\r\n",
    "console.log(`I own a pet ${myPet}.`);\r\n",
    "\r\n",
    "// Use a single template literal to interpolate your variables into the sentence below\r\n",
    "var myName = \"satria\"\r\n",
    "var myCity = \"Depok\"\r\n",
    "console.log(`My name is ${myName}. My favorite city is ${myCity}.`)"
   ],
   "outputs": [],
   "metadata": {}
  },
  {
   "cell_type": "code",
   "execution_count": null,
   "source": [
    "let newVariable = 'Playing around with typeof.';\r\n",
    "\r\n",
    "// How to check the type of variable:\r\n",
    "// Using typeof\r\n",
    "\r\n",
    "const unknown1 = 'foo';\r\n",
    "console.log(typeof unknown1); // Output: string\r\n",
    " \r\n",
    "const unknown2 = 10;\r\n",
    "console.log(typeof unknown2); // Output: number\r\n",
    " \r\n",
    "const unknown3 = true; \r\n",
    "console.log(typeof unknown3); // Output: boolean"
   ],
   "outputs": [],
   "metadata": {}
  },
  {
   "cell_type": "code",
   "execution_count": null,
   "source": [
    "// Project kelvin weather\r\n",
    "\r\n",
    "// Kelvin Temp\r\n",
    "const kelvin = 0\r\n",
    "// celsius Temp\r\n",
    "const celsius = 273\r\n",
    "// formula c - f\r\n",
    "const fahrenheit = celsius * (9/5) + 32\r\n",
    "console.log(\"celcius to fahrenheit:\")\r\n",
    "console.log(`${celsius}C = ${Math.floor(fahrenheit)}F`)\r\n",
    "console.log(`The temperature is ${Math.floor(fahrenheit)} degrees Fahrenheit.`)\r\n",
    "\r\n",
    "const Newton = celsius* (33/100)\r\n",
    "console.log(`${Math.floor(Newton)} newton`)"
   ],
   "outputs": [],
   "metadata": {}
  },
  {
   "cell_type": "code",
   "execution_count": null,
   "source": [
    "// Learn JavaScript\r\n",
    "// Dog Years\r\n",
    "// Objective\r\n",
    "// My age\r\n",
    "console.log(\"The first two years of a dog’s life:\")\r\n",
    "const myAge = 27;\r\n",
    "let earlyYears = 2;\r\n",
    "earlyYears *= 10.5;\r\n",
    "console.log(\"earlyYears:\",earlyYears)\r\n",
    "\r\n",
    "\r\n",
    "let laterYears = myAge - 2;\r\n",
    "// console.log(laterYears)\r\n",
    "laterYears *= 4;\r\n",
    "console.log(\"laterYears:\",laterYears)\r\n",
    "\r\n",
    "let myAgeInDogYears = earlyYears + laterYears;\r\n",
    "console.log(\"myAgeInDogYears\",myAgeInDogYears)\r\n",
    "\r\n",
    "var myName = \"Satria\".toLowerCase();\r\n",
    "console.log(myName)\r\n",
    "\r\n",
    "// string interpolation\r\n",
    "console.log(`\\n`)\r\n",
    "console.log(\"Conclusion:\")\r\n",
    "console.log(`My name is ${myName}. I am ${myAge} years old in human years which is ${myAgeInDogYears} years old in dog years.`)"
   ],
   "outputs": [],
   "metadata": {}
  },
  {
   "cell_type": "markdown",
   "source": [],
   "metadata": {}
  },
  {
   "cell_type": "code",
   "execution_count": null,
   "source": [
    " CONDITIONAL STATEMENTS"
   ],
   "outputs": [],
   "metadata": {}
  },
  {
   "cell_type": "code",
   "execution_count": null,
   "source": [
    "// If Statement\r\n",
    "\r\n",
    "if (true) {\r\n",
    "  console.log('This message will print!'); \r\n",
    "}\r\n",
    "// Prints: This message will print!\r\n",
    "\r\n",
    "\r\n",
    "// If Statement\r\n",
    "\r\n",
    "let sale = true;\r\n",
    "// sale = false\r\n",
    "\r\n",
    "if (sale){\r\n",
    "  console.log('Time to buy!')\r\n",
    "}"
   ],
   "outputs": [],
   "metadata": {}
  },
  {
   "cell_type": "code",
   "execution_count": null,
   "source": [
    "\r\n",
    "// Logical Operator\r\n",
    "let stoplight = 'green';\r\n",
    "let pedestrian = 4;\r\n",
    "\r\n",
    "\r\n",
    "if(stoplight === \"green\" && pedestrian === 6 ){\r\n",
    "  console.log(\"Go\");\r\n",
    "} else {\r\n",
    "  console.log(\"Stop\");\r\n",
    "}\r\n",
    "\r\n",
    "let mood = 'sleepy';\r\n",
    "let tirednessLevel = 6;\r\n",
    "\r\n",
    "if(mood === \"sleepy\" && tirednessLevel > 8){\r\n",
    "  console.log('time to sleep');\r\n",
    "} else {\r\n",
    "  console.log(\"not bed time yet\");\r\n",
    "}\r\n",
    "\r\n",
    "\r\n",
    "\r\n"
   ],
   "outputs": [],
   "metadata": {}
  },
  {
   "cell_type": "code",
   "execution_count": null,
   "source": [
    "// Comparison Operators\r\n",
    "\r\n",
    "// less than <\r\n",
    "// greater than >\r\n",
    "// less than or equal to <=\r\n",
    "// greater than or equal to >=\r\n",
    "// is equal to ===\r\n",
    "// is not equal to !=="
   ],
   "outputs": [],
   "metadata": {}
  },
  {
   "cell_type": "code",
   "execution_count": null,
   "source": [
    "//Truthy and Falsy\r\n",
    "// 0 = false\r\n",
    "// 1 = true\r\n",
    "\r\n",
    "let wordCount = 0;\r\n",
    "\r\n",
    "if (wordCount) {\r\n",
    "  console.log(\"Great! You've started your work!\");\r\n",
    "} else {\r\n",
    "  console.log('Better get to work!');\r\n",
    "}\r\n",
    "\r\n",
    "\r\n",
    "let favoritePhrase = \"\";\r\n",
    "\r\n",
    "if (favoritePhrase) {\r\n",
    "  console.log(\"This string doesn't seem to be empty.\");\r\n",
    "} else {\r\n",
    "  console.log('This string is definitely empty.');\r\n",
    "}\r\n",
    "\r\n",
    "let myVariable = 'I Exist!';\r\n",
    " \r\n",
    "if (myVariable) {\r\n",
    "   console.log(myVariable)\r\n",
    "} else {\r\n",
    "   console.log('The variable does not exist.')"
   ],
   "outputs": [],
   "metadata": {}
  },
  {
   "cell_type": "code",
   "execution_count": null,
   "source": [
    "//Truthy and Falsy\r\n",
    "\r\n",
    "So which values are falsy— or evaluate to false when checked as a condition? The list of falsy values includes:\r\n",
    "\r\n",
    "    {0}\r\n",
    "    Empty strings like {\"\" or ''}\r\n",
    "    {null} which represent when there is no value at all\r\n",
    "    {undefined} which represent when a declared variable lacks a value\r\n",
    "    NaN, or Not a Number\r\n"
   ],
   "outputs": [],
   "metadata": {}
  },
  {
   "cell_type": "code",
   "execution_count": null,
   "source": [
    "// Truthy and Falsy Assignment\r\n",
    "let tool = '';\r\n",
    "tool = \"marker\"\r\n",
    "// Use short circuit evaluation to assign  writingUtensil variable below:\r\n",
    "let writingUtensil;\r\n",
    "\r\n",
    "if (tool){\r\n",
    "  writingUtensil = tool\r\n",
    "  console.log(`The ${writingUtensil} is mightier than the sword.`);\r\n",
    "\r\n",
    "} else {\r\n",
    "  let writingUtensil = tool || \"pen\"\r\n",
    "  console.log(`The ${writingUtensil} is mightier than the sword.`);\r\n",
    "}"
   ],
   "outputs": [],
   "metadata": {}
  },
  {
   "cell_type": "code",
   "execution_count": null,
   "source": [
    "//Introduction to JavaScript ternary operator\r\n",
    "https://www.javascripttutorial.net/javascript-ternary-operator/\r\n",
    "# When you want to execute a block of code if a particular test evaluates to true, you often use the if-else statement. For example, if age is greater than 16, then allow the person to drive can be coded as follows:\r\n",
    "\r\n",
    "var age = 19;\r\n",
    "var canDrive;\r\n",
    "if (age > 16) {\r\n",
    "    canDrive = 'yes';\r\n",
    "} else {\r\n",
    "    canDrive = 'no';\r\n",
    "}\r\n",
    "\r\n",
    "# In this example, you can use the ternary operator as the shortcut for the if-else statement as follows:\r\n",
    "var age = 19;\r\n",
    "var canDrive = age > 16 ? 'yes' : 'no';\r\n",
    "\r\n",
    "\r\n",
    "\r\n"
   ],
   "outputs": [],
   "metadata": {}
  },
  {
   "cell_type": "code",
   "execution_count": null,
   "source": [
    "\r\n",
    "// Basic operator\r\n",
    "var age = 19;\r\n",
    "var canDrive;\r\n",
    "if (age > 16) {\r\n",
    "    canDrive = 'yes';\r\n",
    "    console.log(canDrive);\r\n",
    "} else {\r\n",
    "    canDrive = 'no';\r\n",
    "    console.log(canDrive);\r\n",
    "}\r\n",
    "\r\n",
    "var age = 1;\r\n",
    "var canDrive = age > 16 ? 'yes' : 'no';\r\n",
    "console.log(canDrive)\r\n",
    "\r\n",
    "// condition ? expression_1 : expression_2;\r\n",
    "\r\n",
    "\r\n",
    "// This is ternary operator my version:\r\n",
    "let sleep = 9\r\n",
    "var x = sleep > 10 ? \"kesiangan\" : \"tidak kesiangan\"\r\n",
    "console.log(x)\r\n",
    "\r\n",
    "// This is Generally operator \r\n",
    "sleep = 11\r\n",
    "sleep > 10 ? console.log(\"kesiangan\") : console.log(\"tidak kesiangan\")"
   ],
   "outputs": [],
   "metadata": {}
  },
  {
   "cell_type": "code",
   "execution_count": null,
   "source": [
    "\r\n",
    "// Ternary Operator\r\n",
    "\r\n",
    "let isLocked = false;\r\n",
    "\r\n",
    "// if (isLocked) {\r\n",
    "//   console.log('You will need a key to open the door.');\r\n",
    "// } else {\r\n",
    "//   console.log('You will not need a key to open the door.');\r\n",
    "// condition ? expression_1 : expression_2;\r\n",
    "\r\n",
    "// Ternary operator\r\n",
    "x = isLocked ? \"You will need a key to open the door\" : \"You will not need a key to open the door\"\r\n",
    "console.log(x)\r\n",
    "\r\n",
    "isLocked ? console.log('You will need a key to open the door.') : console.log('You will not need a key to open the door.')\r\n",
    "\r\n",
    "let isCorrect = true;\r\n",
    "// if (isCorrect) {\r\n",
    "//   console.log('Correct!');\r\n",
    "// } else {\r\n",
    "//   console.log('Incorrect!');\r\n",
    "// }\r\n",
    "\r\n",
    "// Ternary operator\r\n",
    "isCorrect =  isCorrect ? \"Correct!\" : \"Incorrect!\";\r\n",
    "console.log(isCorrect);\r\n",
    "\r\n",
    "isCorrect ? console.log(\"Correct!\") : console.log(\"Incorrect!\");\r\n",
    "\r\n",
    "let favoritePhrase = 'Love That!';\r\n",
    "// if (favoritePhrase === 'Love That!') {\r\n",
    "//   console.log('I love that!');\r\n",
    "// } else {\r\n",
    "//   console.log(\"I don't love that!\");\r\n",
    "// }\r\n",
    "\r\n",
    "\r\n",
    "// Ternary operator\r\n",
    "x = favoritePhrase === 'Love That!' ? 'I love that!':\"I don't love that!\";\r\n",
    "console.log(x)\r\n",
    "\r\n",
    "favoritePhrase === 'Love That!' ? console.log(\"I love that!\") : console.log(\"I don't love that!\");\r\n",
    "\r\n",
    "// // condition ? expression_1 : expression_2;"
   ],
   "outputs": [],
   "metadata": {}
  },
  {
   "cell_type": "code",
   "execution_count": null,
   "source": [],
   "outputs": [],
   "metadata": {}
  },
  {
   "cell_type": "code",
   "execution_count": null,
   "source": [
    "// Else if Statement\r\n",
    "\r\n",
    "let season = 'summer';\r\n",
    "\r\n",
    "if (season === 'spring') {\r\n",
    "  console.log('It\\'s spring! The trees are budding!');\r\n",
    "} else if (season === 'winter') {\r\n",
    "  console.log('It\\'s winter! Everything is covered in snow.');\r\n",
    "} else if (season === \"fall\"){\r\n",
    "  console.log(\"It\\'s fall! Leaves are falling!\");\r\n",
    "} else if(season === \"summer\"){\r\n",
    "  console.log(\"It\\'s sunny and warm because it\\'s summer!\")\r\n",
    "} else {\r\n",
    "  console.log('Invalid season.');\r\n",
    "}\r\n",
    "\r\n"
   ],
   "outputs": [],
   "metadata": {}
  },
  {
   "cell_type": "code",
   "execution_count": null,
   "source": [
    "// conditional statements\r\n",
    "\r\n",
    "// Basic conditional\r\n",
    "// else if statements are a great tool if we need to check multiple conditions. In programming, we often find ourselves needing to check multiple values and handling each of them differently. For example:\r\n",
    "\r\n",
    "let groceryItem = 'papaya';\r\n",
    " \r\n",
    "if (groceryItem === 'tomato') {\r\n",
    "  console.log('Tomatoes are $0.49');\r\n",
    "} else if (groceryItem === 'papaya'){\r\n",
    "  console.log('Papayas are $1.29');\r\n",
    "} else {\r\n",
    "  console.log('Invalid item');\r\n",
    "}\r\n",
    "\r\n",
    "// The switch keyword\r\n",
    "// A switch statement provides an alternative syntax that is easier to read and write. A switch statement looks like this:\r\n",
    "\r\n",
    "\r\n",
    "let athleteFinalPosition = 'first place';\r\n",
    " \r\n",
    "switch (athleteFinalPosition){\r\n",
    "  case \"first place\":\r\n",
    "    console.log(\"You get the gold medal!\");\r\n",
    "    break;\r\n",
    "  case \"second place\":\r\n",
    "    console.log(\"You get the silver medal!\");\r\n",
    "    break;\r\n",
    "  case \"third place\":\r\n",
    "    console.log(\"You get the bronze medal!\");\r\n",
    "    break;\r\n",
    "  default:\r\n",
    "    console.log(\"No medal awarded.\");\r\n",
    "    break;\r\n",
    "}"
   ],
   "outputs": [],
   "metadata": {}
  },
  {
   "cell_type": "code",
   "execution_count": null,
   "source": [],
   "outputs": [],
   "metadata": {}
  },
  {
   "cell_type": "code",
   "execution_count": null,
   "source": [],
   "outputs": [],
   "metadata": {}
  },
  {
   "cell_type": "code",
   "execution_count": null,
   "source": [
    "// How to add on empty string in JS\r\n",
    "\r\n",
    "// add empty list \r\n",
    "some_array = [];\r\n",
    "some_array.push(\"Mike\");\r\n",
    "console.log(some_array)\r\n",
    "\r\n",
    "//add empty string\r\n",
    "var totn_string = \"\";\r\n",
    "console.log(totn_string.concat('GIla'));\r\n",
    "console.log(totn_string);"
   ],
   "outputs": [],
   "metadata": {}
  },
  {
   "cell_type": "code",
   "execution_count": null,
   "source": [
    "// random true or False\r\n",
    "\r\n",
    "const rand = Boolean(Math.round(Math.random()));\r\n",
    "console.log(rand)"
   ],
   "outputs": [],
   "metadata": {}
  },
  {
   "cell_type": "code",
   "execution_count": null,
   "source": [],
   "outputs": [],
   "metadata": {}
  },
  {
   "cell_type": "code",
   "execution_count": null,
   "source": [],
   "outputs": [],
   "metadata": {}
  },
  {
   "cell_type": "code",
   "execution_count": null,
   "source": [
    "\r\n",
    "// Objective Magic Eight Ball\r\n",
    "let userName = \"\";\r\n",
    "// userName = \"Jane\"\r\n",
    "userName ? console.log(`Hello,${userName}!`):console.log(\"Hello\");\r\n",
    "\r\n",
    "let userQuestion = \"\";\r\n",
    "console.log(`The user asked:${userQuestion}`);\r\n",
    "\r\n",
    "const randomNumber = Math.floor(Math.random() * 8);\r\n",
    "// console.log(randomNumber);\r\n",
    "\r\n",
    "let eightBall = randomNumber;\r\n",
    "x = \"The eight ball answered:\";\r\n",
    "\r\n",
    "\r\n",
    "\r\n",
    "switch(eightBall){\r\n",
    "  case 1:\r\n",
    "    console.log(x,\"It is certain\");\r\n",
    "    break;\r\n",
    "  case 2:\r\n",
    "    console.log(x,\"It is decidedly so\");\r\n",
    "    break;\r\n",
    "  case 3:\r\n",
    "    console.log(x,\"Reply hazy try again\");\r\n",
    "    break;\r\n",
    "  case 4:\r\n",
    "    console.log(x,\"Cannot predict now\");\r\n",
    "    break;\r\n",
    "  case 5:\r\n",
    "    console.log(x,\"Do not count on it\");\r\n",
    "    break;\r\n",
    "  case 6:\r\n",
    "    console.log(x,\"My sources say no\")\r\n",
    "    break;\r\n",
    "  case 7:\r\n",
    "    console.log(x,\"Outlook not so good\")\r\n",
    "    break;\r\n",
    "  default:\r\n",
    "    console.log(x,\"Signs point to yes\")\r\n",
    "    break;\r\n",
    "}\r\n"
   ],
   "outputs": [],
   "metadata": {}
  },
  {
   "cell_type": "code",
   "execution_count": null,
   "source": [
    "// Race Day\n",
    "\n",
    "console.log(\"Marathon du Medoc, Prancis!!!\");\n",
    "console.log(\"\\n\")\n",
    "let above_raceNumber = Math.floor(Math.random() * (1100 - 1000) + 1000)\n",
    "// console.log(above_raceNumber)\n",
    "let below_raceNumber = Math.floor(Math.random() * 1000);\n",
    "// console.log(below_raceNumber)\n",
    "\n",
    "// const age = 19;\n",
    "const age = Math.floor(Math.random() * (20 - 15) + 15);\n",
    "\n",
    "const rand = Boolean(Math.round(Math.random()));\n",
    "// console.log(rand)\n",
    "const registereEearly = rand\n",
    "const registereLately = rand\n",
    "\n",
    "\n",
    "console.log(\"Form data:\")\n",
    "console.log(`AGE: ${age}`)\n",
    "// console.log(\"Registered : Eearly or lately\")\n",
    "\n",
    "\n",
    "\n",
    "\n",
    "if (age > 18 && registereEearly === true) {\n",
    "  console.log(\"Registered : Eearly \")\n",
    "  console.log(`Starting race 9.30am and with race number ${above_raceNumber} `);\n",
    " } else if (age > 18 && registereLately === false) {\n",
    "   console.log(\"Registered : lately \")\n",
    "   console.log(`Starting race 11.00am and with race number ${below_raceNumber} `);\n",
    " } else if (age === 18 && rand === true || false){ \n",
    "   console.log(\"Registered : early or lately \")\n",
    "   console.log(`Starting race 12.30am and with race number ${below_raceNumber} `)\n",
    " } else {\n",
    "   console.log(\"Registered : early or lately \")\n",
    "   console.log(`Runners who are 18 years old and did register early or lately should see the registration desk.`)\n",
    " }\n",
    "\n",
    "\n",
    "\n",
    "\n"
   ],
   "outputs": [],
   "metadata": {}
  },
  {
   "cell_type": "code",
   "execution_count": null,
   "source": [
    "// basic conditional with empty string\n",
    "\n",
    "let weather = \"spring\";\n",
    "let clothingChoice = \"\";\n",
    " \n",
    "if (weather === \"spring\") {\n",
    "  clothingChoice = \"Put on rain boots.\";\n",
    "} else if (weather === \"summer\") {\n",
    "  clothingChoice = \"Make sure to take your sunscreen.\";\n",
    "} else if (weather === \"fall\") {\n",
    "  clothingChoice = \"Wear a light jacket.\";\n",
    "} else if (weather === 'winter') {\n",
    "  clothingChoice = \"Wear a heavy coat.\";\n",
    "} else {\n",
    "  console.log('Invalid weather type.');\n",
    "};\n",
    "console.log(clothingChoice);"
   ],
   "outputs": [],
   "metadata": {}
  },
  {
   "cell_type": "code",
   "execution_count": null,
   "source": [
    "// what will the following code log to the console\n",
    "// The answer since needTacos is true, the first block will run\n",
    "let needTacos = true;\n",
    " \n",
    "if (needTacos) {\n",
    "    console.log(\"Finding tacos\");\n",
    "} else {\n",
    "    console.log(\"Keep on keeping on!\");\n",
    "}"
   ],
   "outputs": [],
   "metadata": {}
  },
  {
   "cell_type": "code",
   "execution_count": null,
   "source": [
    "FUNCTION\n"
   ],
   "outputs": [],
   "metadata": {}
  },
  {
   "cell_type": "markdown",
   "source": [],
   "metadata": {}
  },
  {
   "cell_type": "code",
   "execution_count": null,
   "source": [
    "// Function keyword , Identifier() {\n",
    "   // console.log(\"Hellow\")\n",
    "//\n",
    "\n",
    "function sayThanks(){\n",
    "  console.log(\"Thank you for your purchase! We appreciate your business.\")\n",
    "}\n",
    "\n",
    "sayThanks()\n",
    "sayThanks()\n",
    "sayThanks()}"
   ],
   "outputs": [],
   "metadata": {}
  },
  {
   "cell_type": "code",
   "execution_count": null,
   "source": [
    "//How make Default Parameters on function\n",
    "\n",
    "function makeShoppingList(item1 = \"milk\", item2 = \"bread\", item3 = \"eggs\"){\n",
    "  console.log(`Remember to buy ${item1}`);\n",
    "  console.log(`Remember to buy ${item2}`);\n",
    "  console.log(`Remember to buy ${item3}`);\n",
    "}\n",
    "\n",
    "makeShoppingList()"
   ],
   "outputs": [],
   "metadata": {}
  },
  {
   "cell_type": "code",
   "execution_count": null,
   "source": [
    "//return\n",
    "\n",
    "function rectangleArea(width, height) {\n",
    "  if (width > 4){\n",
    "    return \"bijiku terang\"\n",
    "  } \n",
    "  return width * height \n",
    "}\n",
    "\n",
    "x = rectangleArea(66,3)\n",
    "console.log(x)\n"
   ],
   "outputs": [],
   "metadata": {}
  },
  {
   "cell_type": "code",
   "execution_count": null,
   "source": [
    "// The function of Return is the computer will run through the function’s code and evaluate the result of calling the function\n",
    "\n",
    "function monitorCount(rows,columns){\n",
    "  return rows * columns\n",
    "}\n",
    "\n",
    "// Declare a variable named numOfMonitors using the const keyword and assign numOfMonitors the value of invoking monitorCount() with the arguments 5 and 4.\n",
    "const numOfMonitors = monitorCount(5,4);\n",
    "console.log(numOfMonitors)"
   ],
   "outputs": [],
   "metadata": {}
  },
  {
   "cell_type": "code",
   "execution_count": null,
   "source": [
    "//Helper function\n",
    "function multiplyByNineFifths(number) {\n",
    "  return number * (9/5);\n",
    "};\n",
    " \n",
    "function getFahrenheit(celsius) {\n",
    "  return multiplyByNineFifths(celsius) + 32;\n",
    "};\n",
    " \n",
    "getFahrenheit(15); // Returns 59"
   ],
   "outputs": [],
   "metadata": {}
  },
  {
   "cell_type": "code",
   "execution_count": null,
   "source": [
    "//Helper function\n",
    "function monitorCount(rows, columns) {\n",
    "  return rows * columns;\n",
    "}\n",
    "\n",
    "function costOfMonitors(rows,columns){\n",
    "  return monitorCount(rows,columns) * 200\n",
    "}\n",
    "\n",
    "const totalCost = costOfMonitors(5,4)\n",
    "console.log(totalCost)"
   ],
   "outputs": [],
   "metadata": {}
  },
  {
   "cell_type": "code",
   "execution_count": null,
   "source": [
    "// function Expressions\n",
    "\n",
    "const calculate = function(a,b){\n",
    "  const area = a * b\n",
    "  return area\n",
    "}\n",
    "console.log(calculate(3,4))\n",
    "\n",
    "const plantNeedsWater = function(day){\n",
    "  if (day === \"Wednesday\"){\n",
    "    return true\n",
    "  }\n",
    "  return false\n",
    "} \n",
    "\n",
    "console.log(plantNeedsWater(\"Tuesday\"))"
   ],
   "outputs": [],
   "metadata": {}
  },
  {
   "cell_type": "code",
   "execution_count": null,
   "source": [
    "// Arrow Functions\n",
    "\n",
    "const plantNeedsWater = (day) => {\n",
    "  if (day === 'Wednesday') {\n",
    "    return true;\n",
    "  } else {\n",
    "    return false;\n",
    "  }\n",
    "};\n",
    "\n",
    "console.log(plantNeedsWater(\"Tuesday\"))\n",
    "\n",
    "\n"
   ],
   "outputs": [],
   "metadata": {}
  },
  {
   "cell_type": "code",
   "execution_count": null,
   "source": [
    "// Concise Body Arrow Function\n",
    "\n",
    "const plantNeedsWater = (day) => {\n",
    "  return day === 'Wednesday' ? true : false;\n",
    "};\n",
    "\n",
    "// zero parameters\n",
    "// const functionName = () =>{};\n",
    "\n",
    "// one parameter\n",
    "// const functionName = paramOne => ();\n",
    "\n",
    "// two om more parameters\n",
    "// const functioName = (parameOne,paramTwo) => ();\n",
    "\n",
    "const x = (a,b,c) => {;\n",
    "  return a + b + c;\n",
    "}\n",
    "\n",
    "console.log(x(4,4,4))"
   ],
   "outputs": [],
   "metadata": {}
  },
  {
   "cell_type": "code",
   "execution_count": null,
   "source": [],
   "outputs": [],
   "metadata": {}
  },
  {
   "cell_type": "code",
   "execution_count": null,
   "source": [
    "// How to convert Arrow function to refactor function \n",
    "const squareNum = (num) => {\n",
    "  return num * num;\n",
    "};\n",
    "\n",
    "// refactor function \n",
    "const squareNum = num => num * num;\n",
    "console.log(squareNum(4,5))"
   ],
   "outputs": [],
   "metadata": {}
  },
  {
   "cell_type": "code",
   "execution_count": null,
   "source": [
    "//helper with arrow function\n",
    "\n",
    " const nilai = nama_matkul => {\n",
    "  if(nama_matkul === \"MTK\"){\n",
    "    return 90\n",
    "} if (nama_matkul === \"IPS\") {\n",
    "    return 80\n",
    "}\n",
    "\n",
    "};\n",
    "\n",
    "\n",
    "// console.log(nilai(\"MTK\"))\n",
    "// console.log(nilai(\"IPS\"))\n",
    "\n",
    "const nilai_rata_rata = (percentage)=>{\n",
    "   matkul = nilai(\"MTK\") + nilai(\"IPS\")\n",
    "    return  matkul / percentage\n",
    "}\n",
    "\n",
    "console.log(nilai_rata_rata(2))"
   ],
   "outputs": [],
   "metadata": {}
  },
  {
   "cell_type": "code",
   "execution_count": null,
   "source": [
    "// 3 kind of function:\n",
    "\n",
    "// function expressions\n",
    "// rumus\n",
    "// identifier = functionkeyword(parameter){\n",
    "//   (expression)\n",
    "// }\n",
    "\n",
    "// function using arrow \n",
    "// rumus \n",
    "// identifier = (parameter ) arrow {\n",
    "//   (expression)\n",
    "// }\n",
    "\n",
    "// fucntion concise arrow\n",
    "//  function single line block\n",
    "//  identifier = x => x + x;\n",
    "//  function multi line block\n",
    "//  identifier = x => {\n",
    "//    (expression)\n",
    "//  }"
   ],
   "outputs": [],
   "metadata": {}
  },
  {
   "cell_type": "code",
   "execution_count": null,
   "source": [
    "// How to make tittle case per word\n",
    "// How to make title case per word\n",
    "\n",
    "\n",
    "x = \"mAnuSia\" // return Manusia\n",
    "z = x[0].toUpperCase()\n",
    "o = x.substring(1).toLowerCase()\n",
    "// console.log(x[0])\n",
    "// console.log(z)\n",
    "// console.log(o)\n",
    "// toUpperCase()\n",
    "let Goal = z + o\n",
    "console.log(Goal)\n",
    "\n",
    "let userChoice = \"mANUsia\" \n",
    "userChoice = userChoice.toLowerCase();\n",
    "\n",
    "titlecase = userChoice[0].toUpperCase()+ userChoice.substring(1).toLowerCase()\n",
    "console.log(titlecase)"
   ],
   "outputs": [],
   "metadata": {}
  },
  {
   "cell_type": "code",
   "execution_count": null,
   "source": [
    "//switch jepang function\n",
    "\n",
    "function suit_jepang(){\n",
    "  \n",
    "randomNumber = Math.floor(Math.random()* 3)\n",
    "switch (randomNumber){\n",
    "  case 0:\n",
    "    // console.log (\"rock\");\n",
    "    return \"rock\"\n",
    "    break;\n",
    "  case 1:\n",
    "    // console.log(\"Paper\")\n",
    "    return \"paper\"\n",
    "    break;\n",
    "  case 2:\n",
    "    // console.log (\"Scissors\")\n",
    "    return \"Scissors\"\n",
    "    break;\n",
    "}\n",
    "\n",
    "}\n",
    "console.log(suit_jepang())\n"
   ],
   "outputs": [],
   "metadata": {}
  },
  {
   "cell_type": "code",
   "execution_count": null,
   "source": [
    "// How to make function  Rock,Paper,or Scissors\n",
    "function determineWinner(userChoice,computerChoice){\n",
    "  // return userChoice + computerChoice\n",
    "  // Rock,Paper,or Scissors\n",
    "  userChoice = userChoice[0].toUpperCase()+ userChoice.substring(1).toLowerCase();\n",
    "  computerChoice = computerChoice[0].toUpperCase()+ computerChoice.substring(1).toLowerCase();\n",
    "  // titlecase_user = userChoice[0].toUpperCase()+ userChoice.substring(1).toLowerCase()\n",
    "  // titlecase_computer = computerChoice[0].toUpperCase()+ computerChoice.substring(1).toLowerCase()\n",
    "  \n",
    "  if (userChoice === computerChoice){\n",
    "    return \"Draw\"\n",
    "  }else if (userChoice === \"Rock\" && computerChoice === \"Paper\") {\n",
    "    return \"Lose\";\n",
    "  }else if(userChoice === \"Rock\" && computerChoice === \"Scissors\"){\n",
    "    return \"win\"\n",
    "  }else{\n",
    "    return \"Error!\";\n",
    "  }\n",
    "}\n",
    "console.log(determineWinner(\"rock\",\"Paper\"))\n"
   ],
   "outputs": [],
   "metadata": {}
  },
  {
   "cell_type": "code",
   "execution_count": null,
   "source": [
    "// Comparing traditional functions to arrow functions\n",
    "\n",
    "// Traditional Function\n",
    "function practice (a){\n",
    "  return a + 100;\n",
    "}\n",
    "\n",
    "// Arrow Function Break Down\n",
    "\n",
    "// 1. Remove the word \"function\" and place arrow between the argument and opening body bracket\n",
    "const practice = (a) => {\n",
    "  return a + 100;\n",
    "}\n",
    "\n",
    "// 2. Remove the body braces and word \"return\" -- the return is implied.\n",
    "const practice = (a) => a + 100;\n",
    "\n",
    "// 3. Remove the argument parentheses\n",
    "const practice = a => a + 100;\n",
    "\n",
    "\n",
    "\n"
   ],
   "outputs": [],
   "metadata": {}
  },
  {
   "cell_type": "code",
   "execution_count": null,
   "source": [
    "//For example, if you have multiple arguments or no arguments, you'll need to re-introduce parentheses around the arguments:\n",
    "\n",
    "// Traditional Function\n",
    "function practice (a, b){\n",
    "  return a + b + 100;\n",
    "}\n",
    "\n",
    "// Arrow Function\n",
    "practice = (a, b) => a + b + 100;\n",
    "\n",
    "// Traditional Function (no arguments)\n",
    "let a = 4;\n",
    "let b = 2;\n",
    "function practice (){\n",
    "  return a + b + 100;\n",
    "}\n",
    "\n",
    "// Arrow Function (no arguments)\n",
    "let a = 4;\n",
    "let b = 2;\n",
    "const practice = () => a + b + 100;\n"
   ],
   "outputs": [],
   "metadata": {}
  },
  {
   "cell_type": "code",
   "execution_count": null,
   "source": [
    "// Which of the following is a parameter in the block of code below?\n",
    "\n",
    "let input = 8;\n",
    "const controlVal = input / 2 + 3;\n",
    "const multiplier = (number, phase) => {\n",
    "  const val = number * controlVal + phase;\n",
    "  console.log(val);\n",
    "};\n",
    "\n",
    "// The answer is : number , because Parameters are defined in the parentheses of a function declaration or expression.\n"
   ],
   "outputs": [],
   "metadata": {}
  },
  {
   "cell_type": "code",
   "execution_count": null,
   "source": [
    "//This is condensed form of the function or as consise body\n",
    "const areaOfCircle = radius => Math.PI * radius * radius ;"
   ],
   "outputs": [],
   "metadata": {}
  },
  {
   "cell_type": "code",
   "execution_count": null,
   "source": [
    "//  WHATS THE PURPOSE OF A PARAMETER\n",
    "//THe answer is : To Allow a function to accept data"
   ],
   "outputs": [],
   "metadata": {}
  },
  {
   "cell_type": "code",
   "execution_count": null,
   "source": [],
   "outputs": [],
   "metadata": {}
  },
  {
   "cell_type": "code",
   "execution_count": null,
   "source": [],
   "outputs": [],
   "metadata": {}
  },
  {
   "cell_type": "markdown",
   "source": [
    "SCOPE\n"
   ],
   "metadata": {}
  },
  {
   "cell_type": "code",
   "execution_count": null,
   "source": [
    "// Blocks and scope function\n",
    "\n",
    "const city = \"New York City\"\n",
    "function logCitySkyline(){\n",
    "  let skyscraper = \"Empire State Building\"\n",
    "  return \"The stars over the \" + skyscraper + \" in \" + city\n",
    "}\n",
    "console.log(logCitySkyline())"
   ],
   "outputs": [],
   "metadata": {}
  },
  {
   "cell_type": "code",
   "execution_count": null,
   "source": [
    "// Blocks and scope function\n",
    "let x = 40\n",
    "const experiment = (day) =>{\n",
    "    x = 30 \n",
    "  return `My ${x} days`\n",
    "}\n",
    "\n",
    "// console.log(experiment(40))\n",
    "console.log(experiment(x))\n",
    "// console.log(x)"
   ],
   "outputs": [],
   "metadata": {}
  },
  {
   "cell_type": "code",
   "execution_count": null,
   "source": [
    "// A block of code could be a function, like this:\n",
    "\n",
    "const logSkyColor = () => {\n",
    "  let color = 'blue'; \n",
    "  console.log(color); // blue \n",
    "}\n",
    "\n"
   ],
   "outputs": [],
   "metadata": {}
  },
  {
   "cell_type": "code",
   "execution_count": null,
   "source": [
    "//Notice that the function body is actually a block of code. Observe the //block in an if statement:\n",
    "if (dusk) {\n",
    "  let color = 'pink';\n",
    "  console.log(color); // pink\n",
    "}\n"
   ],
   "outputs": [],
   "metadata": {}
  },
  {
   "cell_type": "code",
   "execution_count": null,
   "source": [
    "//Global scope with function expression\r\n",
    "\r\n",
    "var satellite = \"The Moon\"\r\n",
    "var galaxy = \"The Milky Way\"\r\n",
    "var stars = \"North Star\"\r\n",
    "\r\n",
    "const callMyNightSky = function() {\r\n",
    "  return 'Night Sky: ' + satellite + ', ' + stars + ', and ' + galaxy;\r\n",
    "}\r\n",
    "console.log(callMyNightSky())"
   ],
   "outputs": [],
   "metadata": {}
  },
  {
   "cell_type": "code",
   "execution_count": null,
   "source": [
    "// Block Scope\n",
    "\n",
    "const logSkyColor = () => {\n",
    "  let color = 'blue'; \n",
    "  console.log(color); // blue \n",
    "};\n",
    " \n",
    "logSkyColor(); // blue \n",
    "console.log(color); // ReferenceError\n",
    "\n",
    "\n",
    "// Block Scope Excersice\n",
    "\n",
    "const logVisibleLightWaves = function() {\n",
    "  const lightWaves = \"Moonlight\"\n",
    "  console.log( lightWaves)\n",
    "}\n",
    "// console.log(logVisibleLightWaves())\n",
    "logVisibleLightWaves()\n",
    "// console.log(lightWaves)\n"
   ],
   "outputs": [],
   "metadata": {}
  },
  {
   "cell_type": "code",
   "execution_count": null,
   "source": [
    "// My Block Scope\n",
    "const logSkyColor = (red) => {\n",
    "  const color = 'blue'; \n",
    "  console.log(color); // blue \n",
    "  return red;\n",
    "};\n",
    " \n",
    "// logSkyColor(); // blue \n",
    "// console.log(color); // ReferenceError \n",
    "console.log(logSkyColor(\"red\"))"
   ],
   "outputs": [],
   "metadata": {}
  },
  {
   "cell_type": "code",
   "execution_count": null,
   "source": [
    "//Scope Pollution\n",
    "\n",
    "const satellite = 'The Moon';\n",
    "const galaxy = 'The Milky Way';\n",
    "let stars = 'North Star';\n",
    "\n",
    "const callMyNightSky = () => {\n",
    "   /*const*/ stars = \"Sirius\";\n",
    "\treturn 'Night Sky: ' + satellite + ', ' + stars + ', ' + galaxy;\n",
    "};\n",
    "\n",
    "console.log(callMyNightSky());\n",
    "console.log(stars)\n"
   ],
   "outputs": [],
   "metadata": {}
  },
  {
   "cell_type": "code",
   "execution_count": null,
   "source": [],
   "outputs": [],
   "metadata": {}
  },
  {
   "cell_type": "code",
   "execution_count": null,
   "source": [],
   "outputs": [],
   "metadata": {}
  },
  {
   "cell_type": "code",
   "execution_count": null,
   "source": [],
   "outputs": [],
   "metadata": {}
  },
  {
   "cell_type": "code",
   "execution_count": null,
   "source": [],
   "outputs": [],
   "metadata": {}
  },
  {
   "cell_type": "code",
   "execution_count": null,
   "source": [
    "// Practice good scoping\n",
    "const logVisibleLightWaves = () => {\n",
    "  let lightWaves = 'Moonlight';\n",
    "\tlet region = 'The Arctic';\n",
    "  // Add if statement here:\n",
    "  if(region === \"The Arctic\"){\n",
    "    let lightWaves = \"Northern Lights\"\n",
    "    console.log(lightWaves);\n",
    "  }\n",
    "  console.log(lightWaves)\n",
    "};\n",
    "\n",
    "logVisibleLightWaves();"
   ],
   "outputs": [],
   "metadata": {}
  },
  {
   "cell_type": "code",
   "execution_count": null,
   "source": [
    "// Practice good scoping\n",
    "const logSkyColor = () => {\n",
    "  const dusk = true;\n",
    "  let color = 'blue'; \n",
    "  if (dusk) {\n",
    "    let color = 'pink';\n",
    "    console.log(color); // pink\n",
    "  }\n",
    "  console.log(color); // blue \n",
    "};\n",
    " \n",
    "console.log(color); // ReferenceError"
   ],
   "outputs": [],
   "metadata": {}
  },
  {
   "cell_type": "code",
   "execution_count": null,
   "source": [],
   "outputs": [],
   "metadata": {}
  },
  {
   "cell_type": "code",
   "execution_count": null,
   "source": [
    "// Scope\n",
    "/*Review: Scope\n",
    "\n",
    "In this lesson, you learned about scope and how it impacts the accessibility of different variables.\n",
    "\n",
    "Let’s review the following terms:\n",
    "\n",
    "Scope is the idea in programming that some variables are accessible/inaccessible from other parts of the program.\n",
    "\n",
    "Blocks are statements that exist within curly braces {}.\n",
    "    \n",
    "Global scope refers to the context within which variables are accessible to every part of the program.\n",
    "\n",
    "Global variables are variables that exist within global scope.\n",
    "\n",
    "Block scope refers to the context within which variables that are accessible only within the block they are defined\n",
    "\n",
    "Local variables are variables that exist within block scope.\n",
    "\n",
    "Global namespace is the space in our code that contains globally scoped information.\n",
    "\n",
    "Scope pollution is when too many variables exist in a namespace or variable names are reused.\n",
    "\n",
    "As you continue your coding journey, remember to use best practices when declaring your variables! Scoping your variables tightly will ensure that your code has clean, organized, and modular logic.\n",
    "\n",
    "*/\n"
   ],
   "outputs": [],
   "metadata": {}
  },
  {
   "cell_type": "code",
   "execution_count": null,
   "source": [
    "// Training Days\n",
    "// Objective\n",
    "\n",
    "// The scope of `random` is too loose \n",
    "// const random = Math.floor(Math.random() * 3);\n",
    "\n",
    "const getRandEvent = () => {\n",
    "  const random = Math.floor(Math.random() * 3);\n",
    "  if (random === 0) {\n",
    "    return 'Marathon';\n",
    "  } else if (random === 1) {\n",
    "    return 'Triathlon';\n",
    "  } else if (random === 2) {\n",
    "    return 'Pentathlon';\n",
    "  }\n",
    "};\n",
    "getRandEvent() //event\n",
    "\n",
    "// The scope of `days` is too tight \n",
    "const getTrainingDays = event => {\n",
    "let days \n",
    "  if (event === 'Marathon') {\n",
    "     days = 50;\n",
    "  } else if (event === 'Triathlon') {\n",
    "     days = 100;\n",
    "  } else if (event === 'Pentathlon') {\n",
    "     days = 200;\n",
    "  }\n",
    "\n",
    "  return days;\n",
    "};\n",
    "console.log(getTrainingDays(getRandEvent())) // days\n",
    "\n",
    "// The scope of `name` is too tight \n",
    "const name = \"Nala\"\n",
    "const logEvent = (name,event) => {\n",
    "  // const name = 'Nala';\n",
    "  console.log(`${name}'s event is: ${event}`);\n",
    "};\n",
    "logEvent(name,getRandEvent())\n",
    "\n",
    "\n",
    "const logTime = (name,days) => {\n",
    "  // const name = 'Nala';\n",
    "  console.log(`${name}'s time to train is: ${days} days`);\n",
    "};\n",
    "logTime(name,getTrainingDays(getRandEvent()))\n",
    "\n",
    "const event = getRandEvent();\n",
    "const days = getTrainingDays(getRandEvent());\n",
    "// Define a `name` variable. Use it as an argument after updating logEvent and logTime \n",
    "\n",
    "const event2 = getRandEvent();\n",
    "const days2 = getTrainingDays(event2);\n",
    "const name2 = 'Warren';\n",
    " \n",
    "logEvent(name2, event2);\n",
    "logTime(name2, days2);\n",
    "\n",
    "// logEvent(event);\n",
    "// logTime(days);"
   ],
   "outputs": [],
   "metadata": {}
  },
  {
   "cell_type": "code",
   "execution_count": null,
   "source": [],
   "outputs": [],
   "metadata": {}
  },
  {
   "cell_type": "markdown",
   "source": [
    "arrays\n"
   ],
   "metadata": {}
  },
  {
   "cell_type": "code",
   "execution_count": null,
   "source": [
    "// The .length property\n",
    "\n",
    "// const objectives = ['Learn a new languages', 'Read 52 books', 'Run a marathon'];\n",
    "const newYearsResolutions = ['Keep a journal', 'Take a falconry class'];\n",
    "console.log(newYearsResolutions.length);\n",
    "\n",
    "\n",
    "const objectives = ['Learn a new languages', 'Read 52 books', 'Run a marathon'];\n",
    "console.log(objectives.length)"
   ],
   "outputs": [],
   "metadata": {}
  },
  {
   "cell_type": "code",
   "execution_count": null,
   "source": [
    "// Array method push\n",
    "const itemTracker = ['item 0', 'item 1', 'item 2'];\n",
    " \n",
    "itemTracker.push('item 3', 'item 4');\n",
    " \n",
    "console.log(itemTracker); "
   ],
   "outputs": [],
   "metadata": {}
  },
  {
   "cell_type": "code",
   "execution_count": null,
   "source": [
    "// The .pop() Method\n",
    "const chores = ['wash dishes', 'do laundry', 'take out trash', 'cook dinner', 'mop floor'];\n",
    "\n",
    "chores.pop()\n",
    "console.log(chores)\n",
    "\n",
    "\n",
    "const newItemTracker = ['item 0', 'item 1', 'item 2'];\n",
    " \n",
    "const removed = newItemTracker.pop();\n",
    " \n",
    "console.log(newItemTracker); \n",
    "// Output: [ 'item 0', 'item 1' ]\n",
    "console.log(removed);\n",
    "// Output: item 2"
   ],
   "outputs": [],
   "metadata": {}
  },
  {
   "cell_type": "code",
   "execution_count": null,
   "source": [
    "// The .shift() Method , unshift() , sclice() , indexOf()\n",
    "const groceryList = ['orange juice', 'bananas', 'coffee beans', 'brown rice', 'pasta', 'coconut oil', 'plantains'];\n",
    "\n",
    "groceryList.shift()\n",
    "groceryList.unshift('popcorn')\n",
    "\n",
    "\n",
    "\n",
    "\n",
    "console.log(groceryList.slice(1,4))\n",
    "\n",
    "\n",
    "const pastaIndex = groceryList.indexOf('pasta')\n",
    "console.log(pastaIndex )"
   ],
   "outputs": [],
   "metadata": {}
  },
  {
   "cell_type": "code",
   "execution_count": null,
   "source": [
    "//Arrays and functions\n",
    "\n",
    "const concept = ['arrays', 'can', 'be', 'mutated'];\n",
    "\n",
    "function changeArr(arr){\n",
    "  arr[3] = 'MUTATED';\n",
    "}\n",
    "\n",
    "changeArr(concept);\n",
    "console.log(concept)\n",
    "\n",
    "const removeElement = function(newArr){\n",
    " newArr.pop()\n",
    "}\n",
    "\n",
    "removeElement(concept)\n",
    "console.log(concept)"
   ],
   "outputs": [],
   "metadata": {}
  },
  {
   "cell_type": "code",
   "execution_count": null,
   "source": [
    "// Nested Arrays\n",
    "\n",
    "const nestedArr = [[1], [2, 3]];\n",
    "console.log(nestedARR.length) \n",
    "console.log(nestedArr[1]); // Output: [2, 3]\n",
    "console.log(nestedArr[1][0]); // Output: 2\n",
    "\n",
    "\n",
    "const numberClusters = [[1, 2], [3, 4], [5, 6]];\n",
    "const target = numberClusters[2][1];\n",
    "console.log(numberClusters)\n",
    "console.log(target)"
   ],
   "outputs": [],
   "metadata": {}
  },
  {
   "cell_type": "code",
   "execution_count": null,
   "source": [
    "// Review Arrays\n",
    "/*\n",
    "Variables that contain arrays can be declared with let or const. Even when declared with const, arrays are still mutable. However, a variable declared with const cannot be reassigned. \n",
    "\n",
    "Arrays mutated inside of a function will keep that change even outside the functio\n",
    "\n",
    "To access elements in nested arrays chain indices using bracket notation. \n",
    "\n",
    "*/\n",
    "\n"
   ],
   "outputs": [],
   "metadata": {}
  },
  {
   "cell_type": "code",
   "execution_count": null,
   "source": [
    "//splice(start, deleteCount, item1)\n",
    "\n",
    "// How to insert element\n",
    "let myFish = ['angel', 'clown', 'mandarin', 'sturgeon']\n",
    "console.log(myFish)\n",
    "let removed = myFish.splice(2, 0, 'drum')\n",
    "console.log(myFish)"
   ],
   "outputs": [],
   "metadata": {}
  },
  {
   "cell_type": "code",
   "execution_count": null,
   "source": [
    "//splice(start, deleteCount, item1)\n",
    "\n",
    "// How to replace element\n",
    "\n",
    "const months = ['Jan','feb', 'March', 'April', 'June'];\n",
    "console.log(months);\n",
    "months.splice(4, 1, 'May');\n",
    "\n",
    "console.log(months);\n",
    "// expected output: Array [\"Jan\", \"feb\", \"March\", \"April\", \"May\"]\n"
   ],
   "outputs": [],
   "metadata": {}
  },
  {
   "cell_type": "code",
   "execution_count": null,
   "source": [
    "//splice(start, deleteCount, item1)\n",
    "// Remove all elements, starting from index 2\n",
    "let myFish = ['angel', 'clown', 'drum', 'mandarin', 'sturgeon']\n",
    "myFish.splice(3)\n",
    "console.log(myFish)\n"
   ],
   "outputs": [],
   "metadata": {}
  },
  {
   "cell_type": "code",
   "execution_count": null,
   "source": [
    "// Remove element\n",
    "let myFish = ['angel', 'clown', 'drum', 'mandarin', 'sturgeon'] // angel, drum,sturgeon\n",
    "console.log(myFish)\n",
    "//Remove element at index 1 , 1 count\n",
    "myFish.splice(1,1)\n",
    "//Remove element at index 2 , 1 count\n",
    "myFish.splice(2,1)\n",
    "\n",
    "console.log(myFish)\n"
   ],
   "outputs": [],
   "metadata": {}
  },
  {
   "cell_type": "code",
   "execution_count": null,
   "source": [
    "// how to add element\n",
    "// add element \"guitar\" to index 3\n",
    "\n",
    "let myFish = ['angel', 'clown', 'mandarin', 'sturgeon']\n",
    "console.log(myFish)\n",
    "myFish.splice(3, 0, 'guitar')\n",
    "console.log(myFish)\n",
    "\n",
    "//> Array [\"angel\", \"clown\", \"mandarin\", \"sturgeon\"]\n",
    "//> Array [\"angel\", \"clown\", \"mandarin\", \"guitar\", \"sturgeon\"]\n",
    "\n"
   ],
   "outputs": [],
   "metadata": {}
  },
  {
   "cell_type": "markdown",
   "source": [
    "\n",
    "LOOP"
   ],
   "metadata": {}
  },
  {
   "cell_type": "code",
   "execution_count": null,
   "source": [
    "// Write your code below\n",
    "// The For Loop\n",
    "\n",
    "// if counter = true , so  will decrease by 1\n",
    "for (let counter = 4; counter > -1; counter--) {\n",
    "  console.log(counter)\n",
    "}\n",
    "\n",
    "for (let counter = 3; counter >= 0; counter --){\n",
    "  console.log(counter)\n",
    "}"
   ],
   "outputs": [],
   "metadata": {}
  },
  {
   "cell_type": "code",
   "execution_count": null,
   "source": [
    "// Looping through Arrays\n",
    "\n",
    "const vacationSpots = ['Bali', 'Paris', 'Tulum'];\n",
    "\n",
    "// Write your code below\n",
    "for(let i = 0; i < vacationSpots.length; i++){\n",
    "  console.log(`I would love to visit ${vacationSpots[i]}`)\n",
    "}\n"
   ],
   "outputs": [],
   "metadata": {}
  },
  {
   "cell_type": "code",
   "execution_count": null,
   "source": [
    "\n",
    "// ITERATION\n",
    "// How add to empty string with loop\n",
    "\n",
    "let cars = [\"BMW\", \"Volvo\", \"Saab\", \"Ford\", \"Fiat\", \"Audi\"];\n",
    "const empty = [\"\"]\n",
    "// empty[0] = cars[0]\n",
    "// empty[1] = cars[1]\n",
    "for(i = 0 ; i < cars.length; i++){\n",
    "  empty[i] = cars[i]\n",
    "}\n",
    "console.log(empty)\n",
    "\n"
   ],
   "outputs": [],
   "metadata": {}
  },
  {
   "cell_type": "code",
   "execution_count": null,
   "source": [
    "// Write your code below\n",
    "// Nested Loops\n",
    "/*\n",
    "When we have a loop running inside another loop, we call that a nested loop. One use for a nested for loop is to compare the elements in two arrays. For each round of the outer for loop, the inner for loop will run completely.\n",
    "*/\n",
    "\n",
    "const myArray = [[6, 19,],[20, 14,] ,[81, 2]];\n",
    "//manual loop\n",
    "// console.log(myArray[0])\n",
    "// console.log(myArray[1])\n",
    "// console.log(myArray[2])\n",
    "// console.log(myArray[0][0]) // 6\n",
    "// console.log(myArray[0][1]) // 19\n",
    "// console.log(myArray[1][0]) // 20\n",
    "// console.log(myArray[1][1]) // 14\n",
    "// console.log(myArray[2][0]) // 81\n",
    "// console.log(myArray[2][1]) //2\n",
    "\n",
    "// Nested Loops\n",
    "for(let i = 0; i < myArray.length; i++){\n",
    "  \n",
    "  for(let j = 0; j < myArray[i].length; j++){\n",
    "    console.log(myArray[i][j])\n",
    "  }\n",
    "}"
   ],
   "outputs": [],
   "metadata": {}
  },
  {
   "cell_type": "code",
   "execution_count": null,
   "source": [
    "// Reverse loop\n",
    "const items = ['apricot', 'banana', 'cherry'];\n",
    " \n",
    "\n",
    "for (let i = 0; i <= 2 ; i++) {\n",
    "  console.log(i)\n",
    "}\n",
    "\n",
    "console.log(\"\\n\")\n",
    "for (let i = 2; i >= 0 ; i--) {\n",
    "  console.log(i)\n",
    "}\n",
    "\n",
    "console.log(\"\\n\")\n",
    "for (let i = items.length - 1; i >= 0 ; i--) {\n",
    " // console.log(items[i])\n",
    "  console.log(`${items[i]} [${[i]}]`)\n",
    "}\n"
   ],
   "outputs": [],
   "metadata": {}
  },
  {
   "cell_type": "code",
   "execution_count": null,
   "source": [
    "// nested for loop\n",
    "\n",
    "for (let outer = 0; outer < 2; outer += 1) {\n",
    "  for (let inner = 0; inner < 3; inner += 1) {\n",
    "    console.log(`${outer}-${inner}`);\n",
    "  }\n",
    "}\n",
    " \n",
    "for (let outer = 0; outer < 2; outer += 1) {\n",
    "  for (let inner = 0; inner < 3; inner += 1) {\n",
    "    console.log(`[${outer}][${inner}]`);\n",
    "  }\n",
    "}\n"
   ],
   "outputs": [],
   "metadata": {}
  },
  {
   "cell_type": "code",
   "execution_count": null,
   "source": [
    "// nested loop\n",
    "\n",
    "// Write your code below\n",
    "\n",
    "const bobsFollowers = [\"siji\",\"two\",\"tilu\",\"four\"]\n",
    "const tinasFollowers = [\"siji\",\"telu\",\"tilu\"]\n",
    "// console.log(4===3)\n",
    "// console.log(bobsFollowers.length === tinasFollowers.length)\n",
    "\n",
    "let mutualFollowers = []\n",
    "\n",
    "for(let i = 0 ; i < bobsFollowers.length ; i++){\n",
    "  for(let j = 0; j < tinasFollowers.length; j++){\n",
    "    if (bobsFollowers[i] === tinasFollowers[j]) {\n",
    "      mutualFollowers.push(bobsFollowers[i])\n",
    "      // mutualFollowers.push(tinasFollowers[j])\n",
    "    }\n",
    "  }\n",
    "};\n"
   ],
   "outputs": [],
   "metadata": {}
  },
  {
   "cell_type": "code",
   "execution_count": null,
   "source": [],
   "outputs": [],
   "metadata": {}
  }
 ],
 "metadata": {
  "kernelspec": {
   "name": "javascript",
   "display_name": "Javascript (Node.js)",
   "language": "javascript"
  },
  "language_info": {
   "file_extension": ".js",
   "mimetype": "application/javascript",
   "name": "javascript",
   "version": "3.8.3"
  },
  "interpreter": {
   "hash": "a5c4d973c4f822d4bfe008def8ff32457d0b934f10b19389cb53fe77d9866520"
  }
 },
 "nbformat": 4,
 "nbformat_minor": 4
}